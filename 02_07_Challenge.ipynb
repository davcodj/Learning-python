{
 "cells": [
  {
   "cell_type": "markdown",
   "id": "48f2163c",
   "metadata": {},
   "source": [
    "## Factorial Challenge\n",
    "\n",
    "The factorial function gives the number of possible arrangements of a set of items of length \"n\"\n",
    "\n",
    "For example, there are 4! (\"four factorial\") or 24 ways to arrange four items, which can be calculated as: \n",
    "4 \\* 3 \\* 2 \\* 1\n",
    "\n",
    "5! = 5 \\* 4 \\* 3 \\* 2 \\* 1 = 120\n",
    "\n",
    "6! = 6 \\* 5 \\* 4 \\* 3 \\* 2 \\* 1 = 720\n",
    "\n",
    "etc.\n",
    "\n",
    "In a set of 0 items (an empty set) there is only one way to arrange the items, therefore, 0! = 1\n",
    "\n",
    "For the purposes of this exercise, factorials are only defined for **positive integers** (including 0)\n",
    "\n",
    "\n"
   ]
  },
  {
   "cell_type": "code",
   "execution_count": 87,
   "id": "92af0386",
   "metadata": {},
   "outputs": [
    {
     "name": "stdout",
     "output_type": "stream",
     "text": [
      "Factorial is not defined for non-integer or negative numbers.\n"
     ]
    }
   ],
   "source": [
    "# defining factorial function\n",
    "def factorial(n):\n",
    "    if not isinstance(n, int) or n < 0: #testing for integer values or negative numbers to return none\n",
    "        return None\n",
    "    elif n == 1 or n == 0: #if n is 0 or 1 then the output is 1 due to arrangement constraints\n",
    "        return 1\n",
    "    else:\n",
    "        return n * factorial(n - 1) #recursive formula for working out factorials\n",
    "\n",
    "num = 'spam spam spam spam spam' #input for the function\n",
    "\n",
    "result = factorial(num) #result for the function\n",
    "\n",
    "if result is not None:\n",
    "    print(\"The factorial of\", num, \"is\", result)\n",
    "else:\n",
    "    print(\"Factorial is not defined for non-integer or negative numbers.\")\n"
   ]
  },
  {
   "cell_type": "code",
   "execution_count": 119,
   "id": "580eeb3e",
   "metadata": {},
   "outputs": [
    {
     "data": {
      "text/plain": [
       "720"
      ]
     },
     "execution_count": 119,
     "metadata": {},
     "output_type": "execute_result"
    }
   ],
   "source": [
    "# return 720\n",
    "factorial (6)"
   ]
  },
  {
   "cell_type": "code",
   "execution_count": 117,
   "id": "c43845c1",
   "metadata": {},
   "outputs": [
    {
     "data": {
      "text/plain": [
       "1"
      ]
     },
     "execution_count": 117,
     "metadata": {},
     "output_type": "execute_result"
    }
   ],
   "source": [
    "# return 1\n",
    "factorial(0)\n"
   ]
  },
  {
   "cell_type": "code",
   "execution_count": 111,
   "id": "8f605415",
   "metadata": {},
   "outputs": [
    {
     "name": "stdout",
     "output_type": "stream",
     "text": [
      "Factorial is not defined for non-integer or negative numbers.\n"
     ]
    }
   ],
   "source": [
    "# return None\n",
    "factorial(-2)\n",
    "if result is not None:\n",
    "    p